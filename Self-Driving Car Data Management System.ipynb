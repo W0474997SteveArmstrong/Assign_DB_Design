{
 "cells": [
  {
   "cell_type": "markdown",
   "id": "fbe7361a",
   "metadata": {},
   "source": [
    "# Self-Driving Car Data Management System\n",
    "This database is engineered to handle the intricate data of a fleet of self-driving cars. It includes tables for the cars themselves, the various sensors equipped in each car, trip logs, and maintenance records, enabling comprehensive data analysis and operational oversight.\n"
   ]
  },
  {
   "cell_type": "markdown",
   "id": "8703d52e",
   "metadata": {},
   "source": [
    "# Installing ipython-sql\n",
    "To run SQL commands directly within this Jupyter Notebook, we need the `ipython-sql` extension. This extension enables Jupyter Notebook to execute SQL commands. We'll install it using pip, the Python package installer. This installation is necessary to allow us to write and execute SQL queries in the notebook.\n"
   ]
  },
  {
   "cell_type": "code",
   "execution_count": 2,
   "id": "d63ae2c9",
   "metadata": {},
   "outputs": [
    {
     "name": "stdout",
     "output_type": "stream",
     "text": [
      "Collecting ipython-sql\n",
      "  Downloading ipython_sql-0.5.0-py3-none-any.whl (20 kB)\n",
      "Collecting prettytable (from ipython-sql)\n",
      "  Obtaining dependency information for prettytable from https://files.pythonhosted.org/packages/4d/81/316b6a55a0d1f327d04cc7b0ba9d04058cb62de6c3a4d4b0df280cbe3b0b/prettytable-3.9.0-py3-none-any.whl.metadata\n",
      "  Downloading prettytable-3.9.0-py3-none-any.whl.metadata (26 kB)\n",
      "Requirement already satisfied: ipython in /Users/stevearmstrong/anaconda3/lib/python3.11/site-packages (from ipython-sql) (8.15.0)\n",
      "Collecting sqlalchemy>=2.0 (from ipython-sql)\n",
      "  Obtaining dependency information for sqlalchemy>=2.0 from https://files.pythonhosted.org/packages/c7/55/d1d2ad054fb7e9188681d56df40ed81c2c198314a805b180b0ec99019da1/SQLAlchemy-2.0.23-cp311-cp311-macosx_11_0_arm64.whl.metadata\n",
      "  Downloading SQLAlchemy-2.0.23-cp311-cp311-macosx_11_0_arm64.whl.metadata (9.6 kB)\n",
      "Collecting sqlparse (from ipython-sql)\n",
      "  Downloading sqlparse-0.4.4-py3-none-any.whl (41 kB)\n",
      "\u001b[2K     \u001b[90m━━━━━━━━━━━━━━━━━━━━━━━━━━━━━━━━━━━━━━━━\u001b[0m \u001b[32m41.2/41.2 kB\u001b[0m \u001b[31m2.1 MB/s\u001b[0m eta \u001b[36m0:00:00\u001b[0m\n",
      "\u001b[?25hRequirement already satisfied: six in /Users/stevearmstrong/anaconda3/lib/python3.11/site-packages (from ipython-sql) (1.16.0)\n",
      "Requirement already satisfied: ipython-genutils in /Users/stevearmstrong/anaconda3/lib/python3.11/site-packages (from ipython-sql) (0.2.0)\n",
      "Requirement already satisfied: typing-extensions>=4.2.0 in /Users/stevearmstrong/anaconda3/lib/python3.11/site-packages (from sqlalchemy>=2.0->ipython-sql) (4.7.1)\n",
      "Requirement already satisfied: backcall in /Users/stevearmstrong/anaconda3/lib/python3.11/site-packages (from ipython->ipython-sql) (0.2.0)\n",
      "Requirement already satisfied: decorator in /Users/stevearmstrong/anaconda3/lib/python3.11/site-packages (from ipython->ipython-sql) (5.1.1)\n",
      "Requirement already satisfied: jedi>=0.16 in /Users/stevearmstrong/anaconda3/lib/python3.11/site-packages (from ipython->ipython-sql) (0.18.1)\n",
      "Requirement already satisfied: matplotlib-inline in /Users/stevearmstrong/anaconda3/lib/python3.11/site-packages (from ipython->ipython-sql) (0.1.6)\n",
      "Requirement already satisfied: pickleshare in /Users/stevearmstrong/anaconda3/lib/python3.11/site-packages (from ipython->ipython-sql) (0.7.5)\n",
      "Requirement already satisfied: prompt-toolkit!=3.0.37,<3.1.0,>=3.0.30 in /Users/stevearmstrong/anaconda3/lib/python3.11/site-packages (from ipython->ipython-sql) (3.0.36)\n",
      "Requirement already satisfied: pygments>=2.4.0 in /Users/stevearmstrong/anaconda3/lib/python3.11/site-packages (from ipython->ipython-sql) (2.15.1)\n",
      "Requirement already satisfied: stack-data in /Users/stevearmstrong/anaconda3/lib/python3.11/site-packages (from ipython->ipython-sql) (0.2.0)\n",
      "Requirement already satisfied: traitlets>=5 in /Users/stevearmstrong/anaconda3/lib/python3.11/site-packages (from ipython->ipython-sql) (5.7.1)\n",
      "Requirement already satisfied: pexpect>4.3 in /Users/stevearmstrong/anaconda3/lib/python3.11/site-packages (from ipython->ipython-sql) (4.8.0)\n",
      "Requirement already satisfied: appnope in /Users/stevearmstrong/anaconda3/lib/python3.11/site-packages (from ipython->ipython-sql) (0.1.2)\n",
      "Requirement already satisfied: wcwidth in /Users/stevearmstrong/anaconda3/lib/python3.11/site-packages (from prettytable->ipython-sql) (0.2.5)\n",
      "Requirement already satisfied: parso<0.9.0,>=0.8.0 in /Users/stevearmstrong/anaconda3/lib/python3.11/site-packages (from jedi>=0.16->ipython->ipython-sql) (0.8.3)\n",
      "Requirement already satisfied: ptyprocess>=0.5 in /Users/stevearmstrong/anaconda3/lib/python3.11/site-packages (from pexpect>4.3->ipython->ipython-sql) (0.7.0)\n",
      "Requirement already satisfied: executing in /Users/stevearmstrong/anaconda3/lib/python3.11/site-packages (from stack-data->ipython->ipython-sql) (0.8.3)\n",
      "Requirement already satisfied: asttokens in /Users/stevearmstrong/anaconda3/lib/python3.11/site-packages (from stack-data->ipython->ipython-sql) (2.0.5)\n",
      "Requirement already satisfied: pure-eval in /Users/stevearmstrong/anaconda3/lib/python3.11/site-packages (from stack-data->ipython->ipython-sql) (0.2.2)\n",
      "Downloading SQLAlchemy-2.0.23-cp311-cp311-macosx_11_0_arm64.whl (2.1 MB)\n",
      "\u001b[2K   \u001b[90m━━━━━━━━━━━━━━━━━━━━━━━━━━━━━━━━━━━━━━━━\u001b[0m \u001b[32m2.1/2.1 MB\u001b[0m \u001b[31m12.0 MB/s\u001b[0m eta \u001b[36m0:00:00\u001b[0ma \u001b[36m0:00:01\u001b[0m\n",
      "\u001b[?25hDownloading prettytable-3.9.0-py3-none-any.whl (27 kB)\n",
      "Installing collected packages: sqlparse, sqlalchemy, prettytable, ipython-sql\n",
      "  Attempting uninstall: sqlalchemy\n",
      "    Found existing installation: SQLAlchemy 1.4.39\n",
      "    Uninstalling SQLAlchemy-1.4.39:\n",
      "      Successfully uninstalled SQLAlchemy-1.4.39\n",
      "Successfully installed ipython-sql-0.5.0 prettytable-3.9.0 sqlalchemy-2.0.23 sqlparse-0.4.4\n"
     ]
    }
   ],
   "source": [
    "!pip install ipython-sql"
   ]
  },
  {
   "cell_type": "markdown",
   "id": "38b35f3f",
   "metadata": {},
   "source": [
    "# Loading the SQL Extension\n",
    "After installing `ipython-sql`, we need to load it into our Jupyter environment. This is done using the `%load_ext` magic command. This command activates the `sql` extension, allowing us to run SQL queries in our notebook cells. By loading this extension, we enable SQL syntax for designated cells, making database interactions seamless and integrated within this Jupyter Notebook.\n"
   ]
  },
  {
   "cell_type": "code",
   "execution_count": 3,
   "id": "09fa00c3",
   "metadata": {},
   "outputs": [],
   "source": [
    "%load_ext sql\n"
   ]
  },
  {
   "cell_type": "markdown",
   "id": "2ed4afac",
   "metadata": {},
   "source": [
    "# Connecting to SQLite Database\n",
    "Now that we have the SQL extension ready, the next step is to establish a connection to a SQLite database. SQLite is a database engine that requires no separate server process and stores the entire database as a single file on disk. We use the `%sql` magic command followed by `sqlite://` to connect to an SQLite database. This connection is in-memory by default, meaning it doesn’t persist after the notebook session ends. \n"
   ]
  },
  {
   "cell_type": "code",
   "execution_count": 4,
   "id": "9d99918e",
   "metadata": {},
   "outputs": [],
   "source": [
    "%sql sqlite://\n"
   ]
  },
  {
   "cell_type": "markdown",
   "id": "db117be6",
   "metadata": {},
   "source": [
    "## Database Structure (DDL)\n",
    "The tables for our self-driving car data system includes `cars`, `sensors`, `trips`, and `maintenance` tables, each with specific attributes and relational integrity constraints.\n"
   ]
  },
  {
   "cell_type": "markdown",
   "id": "82a07112",
   "metadata": {},
   "source": [
    "# Cars Table\n",
    "The `cars` table is designed to store basic information about each self-driving car in the fleet. This includes a unique identifier for each car (`car_id`), the model of the car (`model`), the year of manufacture (`year`), and the date of the last maintenance (`last_maintenance_date`). The `car_id` serves as the primary key for this table."
   ]
  },
  {
   "cell_type": "code",
   "execution_count": 5,
   "id": "69b90d2b",
   "metadata": {},
   "outputs": [
    {
     "name": "stdout",
     "output_type": "stream",
     "text": [
      " * sqlite://\n",
      "Done.\n"
     ]
    },
    {
     "data": {
      "text/plain": [
       "[]"
      ]
     },
     "execution_count": 5,
     "metadata": {},
     "output_type": "execute_result"
    }
   ],
   "source": [
    "%%sql\n",
    "CREATE TABLE cars (\n",
    "    car_id INT PRIMARY KEY,\n",
    "    model VARCHAR(50),\n",
    "    year INT,\n",
    "    last_maintenance_date DATE\n",
    ");\n"
   ]
  },
  {
   "cell_type": "markdown",
   "id": "96745669",
   "metadata": {},
   "source": [
    "# Sensors Table\n",
    "In the `sensors` table, we record information about the various sensors installed in each car. Each sensor has a unique identifier (`sensor_id`), and the table links each sensor to a specific car using `car_id`. The table also records the type of sensor (`type`) and the date it was installed (`installation_date`). The `car_id` in this table acts as a foreign key that references the `car_id` in the `cars` table, establishing a relational link between the two.\n"
   ]
  },
  {
   "cell_type": "code",
   "execution_count": 6,
   "id": "516d8b9c",
   "metadata": {},
   "outputs": [
    {
     "name": "stdout",
     "output_type": "stream",
     "text": [
      " * sqlite://\n",
      "Done.\n"
     ]
    },
    {
     "data": {
      "text/plain": [
       "[]"
      ]
     },
     "execution_count": 6,
     "metadata": {},
     "output_type": "execute_result"
    }
   ],
   "source": [
    "%%sql\n",
    "CREATE TABLE sensors (\n",
    "    sensor_id INT PRIMARY KEY,\n",
    "    car_id INT,\n",
    "    type VARCHAR(50),\n",
    "    installation_date DATE,\n",
    "    FOREIGN KEY (car_id) REFERENCES cars(car_id)\n",
    ");\n"
   ]
  },
  {
   "cell_type": "markdown",
   "id": "a0458d39",
   "metadata": {},
   "source": [
    "# Trips Table\n",
    "The `trips` table captures data about the trips each self-driving car makes. It includes a unique identifier for each trip (`trip_id`), the `car_id` to link it to the specific car, the start and end times of the trip (`start_time` and `end_time`), and the total miles driven during the trip (`miles_driven`). The `car_id` field is a foreign key that connects to the `car_id` in the `cars` table, thus allowing us to track which car made which trip.\n"
   ]
  },
  {
   "cell_type": "code",
   "execution_count": 7,
   "id": "c7eecc45",
   "metadata": {},
   "outputs": [
    {
     "name": "stdout",
     "output_type": "stream",
     "text": [
      " * sqlite://\n",
      "Done.\n"
     ]
    },
    {
     "data": {
      "text/plain": [
       "[]"
      ]
     },
     "execution_count": 7,
     "metadata": {},
     "output_type": "execute_result"
    }
   ],
   "source": [
    "%%sql\n",
    "CREATE TABLE trips (\n",
    "    trip_id INT PRIMARY KEY,\n",
    "    car_id INT,\n",
    "    start_time DATETIME,\n",
    "    end_time DATETIME,\n",
    "    miles_driven DECIMAL(10, 2),\n",
    "    FOREIGN KEY (car_id) REFERENCES cars(car_id)\n",
    ");\n"
   ]
  },
  {
   "cell_type": "markdown",
   "id": "569dcc6a",
   "metadata": {},
   "source": [
    "# Maintenance Table\n",
    "This table, `maintenance`, is used to log maintenance activities for each car. It includes a unique identifier for each maintenance record (`maintenance_id`), the `car_id` of the car that received maintenance, the date of maintenance (`maintenance_date`), and a text field (`details`) for additional information about the maintenance performed. The `car_id` here is a foreign key linked to the `car_id` in the `cars` table, enabling us to track a car's maintenance history.\n"
   ]
  },
  {
   "cell_type": "code",
   "execution_count": 8,
   "id": "d7d0f2ff",
   "metadata": {},
   "outputs": [
    {
     "name": "stdout",
     "output_type": "stream",
     "text": [
      " * sqlite://\n",
      "Done.\n"
     ]
    },
    {
     "data": {
      "text/plain": [
       "[]"
      ]
     },
     "execution_count": 8,
     "metadata": {},
     "output_type": "execute_result"
    }
   ],
   "source": [
    "%%sql\n",
    "CREATE TABLE maintenance (\n",
    "    maintenance_id INT PRIMARY KEY,\n",
    "    car_id INT,\n",
    "    maintenance_date DATE,\n",
    "    details TEXT,\n",
    "    FOREIGN KEY (car_id) REFERENCES cars(car_id)\n",
    ");\n"
   ]
  },
  {
   "cell_type": "markdown",
   "id": "a3e9af3d",
   "metadata": {},
   "source": [
    "## Data Loading Scripts\n",
    "With our tables created, we can now proceed to populate them with data. \n"
   ]
  },
  {
   "cell_type": "markdown",
   "id": "56b49c94",
   "metadata": {},
   "source": [
    "# Inserting Data into the Cars Table\n",
    "Here, we populate the `cars` table with data. This involves inserting records that represent individual cars in the fleet. Each record includes a unique `car_id`, the car's `model`, its `year` of manufacture, and the `last_maintenance_date`.\n"
   ]
  },
  {
   "cell_type": "code",
   "execution_count": 22,
   "id": "2e0c9bbf",
   "metadata": {},
   "outputs": [
    {
     "name": "stdout",
     "output_type": "stream",
     "text": [
      " * sqlite://\n",
      "5 rows affected.\n"
     ]
    },
    {
     "data": {
      "text/plain": [
       "[]"
      ]
     },
     "execution_count": 22,
     "metadata": {},
     "output_type": "execute_result"
    }
   ],
   "source": [
    "%%sql\n",
    "INSERT INTO cars (car_id, model, year, last_maintenance_date) VALUES\n",
    "(1, 'Model X', 2019, '2021-06-15'),\n",
    "(2, 'Model Y', 2020, '2021-07-20'),\n",
    "(3, 'Model Z', 2021, '2021-08-05'),\n",
    "(4, 'Model A', 2018, '2021-05-10'),\n",
    "(5, 'Model B', 2019, '2021-09-15');\n",
    "\n"
   ]
  },
  {
   "cell_type": "markdown",
   "id": "750a6abb",
   "metadata": {},
   "source": [
    "# Inserting Data into the Sensors Table\n",
    "In this step, we add data to the `sensors` table. Each sensor installed in the cars is recorded here. The data includes a `sensor_id`, the `car_id` to which the sensor is attached, the `type` of sensor (e.g., LIDAR, camera), and the `installation_date`. These records help in tracking the sensor equipment of each car, crucial for maintenance and performance analysis of the self-driving fleet."
   ]
  },
  {
   "cell_type": "code",
   "execution_count": 23,
   "id": "708b2d40",
   "metadata": {},
   "outputs": [
    {
     "name": "stdout",
     "output_type": "stream",
     "text": [
      " * sqlite://\n",
      "10 rows affected.\n"
     ]
    },
    {
     "data": {
      "text/plain": [
       "[]"
      ]
     },
     "execution_count": 23,
     "metadata": {},
     "output_type": "execute_result"
    }
   ],
   "source": [
    "%%sql\n",
    "INSERT INTO sensors (sensor_id, car_id, type, installation_date) VALUES\n",
    "(101, 1, 'LIDAR', '2019-01-15'),\n",
    "(102, 1, 'Camera', '2019-01-15'),\n",
    "(103, 2, 'LIDAR', '2020-02-20'),\n",
    "(104, 2, 'Camera', '2020-02-20'),\n",
    "(105, 3, 'LIDAR', '2021-03-25'),\n",
    "(106, 3, 'Camera', '2021-03-25'),\n",
    "(107, 4, 'LIDAR', '2018-04-30'),\n",
    "(108, 4, 'Camera', '2018-04-30'),\n",
    "(109, 5, 'LIDAR', '2019-05-05'),\n",
    "(110, 5, 'Camera', '2019-05-05');\n",
    "\n"
   ]
  },
  {
   "cell_type": "markdown",
   "id": "5967f58a",
   "metadata": {},
   "source": [
    "# Inserting Data into the Trips Table\n",
    "Next, we fill the `trips` table with data representing various trips made by the cars. Each entry in this table includes a `trip_id`, the `car_id` of the car that made the trip, the `start_time` and `end_time` of the trip, and the `miles_driven` during the trip. This data is vital for analyzing the usage patterns, efficiency, and operational scope of the self-driving cars.\n"
   ]
  },
  {
   "cell_type": "code",
   "execution_count": 24,
   "id": "44ccb862",
   "metadata": {},
   "outputs": [
    {
     "name": "stdout",
     "output_type": "stream",
     "text": [
      " * sqlite://\n",
      "10 rows affected.\n"
     ]
    },
    {
     "data": {
      "text/plain": [
       "[]"
      ]
     },
     "execution_count": 24,
     "metadata": {},
     "output_type": "execute_result"
    }
   ],
   "source": [
    "%%sql\n",
    "INSERT INTO trips (trip_id, car_id, start_time, end_time, miles_driven) VALUES\n",
    "(1001, 1, '2021-06-01 08:00:00', '2021-06-01 09:30:00', 60),\n",
    "(1002, 2, '2021-06-02 10:00:00', '2021-06-02 11:00:00', 40),\n",
    "(1003, 3, '2021-06-03 12:00:00', '2021-06-03 14:00:00', 80),\n",
    "(1004, 4, '2021-06-04 15:00:00', '2021-06-04 16:15:00', 45),\n",
    "(1005, 5, '2021-06-05 17:00:00', '2021-06-05 18:00:00', 30),\n",
    "(1006, 1, '2021-06-06 08:00:00', '2021-06-06 10:00:00', 70),\n",
    "(1007, 2, '2021-06-07 11:00:00', '2021-06-07 11:45:00', 25),\n",
    "(1008, 3, '2021-06-08 13:00:00', '2021-06-08 15:30:00', 90),\n",
    "(1009, 4, '2021-06-09 16:00:00', '2021-06-09 17:30:00', 55),\n",
    "(1010, 5, '2021-06-10 18:00:00', '2021-06-10 19:00:00', 35);\n",
    "\n"
   ]
  },
  {
   "cell_type": "markdown",
   "id": "43273ca4",
   "metadata": {},
   "source": [
    "# Inserting Data into the Maintenance Table\n",
    "Finally, we input records into the `maintenance` table. This table tracks the maintenance history of each car. Each record includes a `maintenance_id`, the `car_id` of the car that underwent maintenance, the `maintenance_date`, and a `details` field for additional information about the maintenance activity. This information is crucial for managing the upkeep and reliability of the vehicle fleet.\n"
   ]
  },
  {
   "cell_type": "code",
   "execution_count": 25,
   "id": "c3dc17f9",
   "metadata": {
    "scrolled": true
   },
   "outputs": [
    {
     "name": "stdout",
     "output_type": "stream",
     "text": [
      " * sqlite://\n",
      "10 rows affected.\n"
     ]
    },
    {
     "data": {
      "text/plain": [
       "[]"
      ]
     },
     "execution_count": 25,
     "metadata": {},
     "output_type": "execute_result"
    }
   ],
   "source": [
    "%%sql\n",
    "INSERT INTO maintenance (maintenance_id, car_id, maintenance_date, details) VALUES\n",
    "(5001, 1, '2021-06-15', 'Routine check-up'),\n",
    "(5002, 2, '2021-07-20', 'Battery replacement'),\n",
    "(5003, 3, '2021-08-05', 'Tire replacement'),\n",
    "(5004, 4, '2021-05-10', 'Software update'),\n",
    "(5005, 5, '2021-09-15', 'Sensor calibration'),\n",
    "(5006, 1, '2021-10-05', 'Brake pad replacement'),\n",
    "(5007, 2, '2021-11-10', 'Oil change'),\n",
    "(5008, 3, '2021-12-15', 'Routine check-up'),\n",
    "(5009, 4, '2022-01-20', 'Headlight repair'),\n",
    "(5010, 5, '2022-02-25', 'Battery check-up');\n",
    "\n"
   ]
  },
  {
   "cell_type": "markdown",
   "id": "7f488076",
   "metadata": {},
   "source": [
    "# Sensor Types and Their Lifespan\n",
    "This analysis focuses on the different types of sensors and their lifespan (from installation to the current date or last maintenance). This information is key to predicting sensor replacement and understanding which sensor types are more durable.\n"
   ]
  },
  {
   "cell_type": "code",
   "execution_count": 26,
   "id": "838c5912",
   "metadata": {},
   "outputs": [
    {
     "name": "stdout",
     "output_type": "stream",
     "text": [
      " * sqlite://\n",
      "Done.\n"
     ]
    },
    {
     "data": {
      "text/html": [
       "<table>\n",
       "    <thead>\n",
       "        <tr>\n",
       "            <th>type</th>\n",
       "            <th>average_lifespan_days</th>\n",
       "        </tr>\n",
       "    </thead>\n",
       "    <tbody>\n",
       "        <tr>\n",
       "            <td>Camera</td>\n",
       "            <td>1579.7548901733942</td>\n",
       "        </tr>\n",
       "        <tr>\n",
       "            <td>LIDAR</td>\n",
       "            <td>1579.7548901733942</td>\n",
       "        </tr>\n",
       "    </tbody>\n",
       "</table>"
      ],
      "text/plain": [
       "[('Camera', 1579.7548901733942), ('LIDAR', 1579.7548901733942)]"
      ]
     },
     "execution_count": 26,
     "metadata": {},
     "output_type": "execute_result"
    }
   ],
   "source": [
    "%%sql\n",
    "SELECT type, AVG(julianday('now') - julianday(installation_date)) as average_lifespan_days\n",
    "FROM sensors\n",
    "GROUP BY type;\n"
   ]
  },
  {
   "cell_type": "markdown",
   "id": "aa16dcbe",
   "metadata": {},
   "source": [
    "# Most Common Maintenance Activities\n",
    "Identifying the most common types of maintenance activities can help in understanding the prevalent issues in the fleet. This information is valuable for focusing on preventive measures and training.\n"
   ]
  },
  {
   "cell_type": "code",
   "execution_count": 27,
   "id": "78daca8f",
   "metadata": {},
   "outputs": [
    {
     "name": "stdout",
     "output_type": "stream",
     "text": [
      " * sqlite://\n",
      "Done.\n"
     ]
    },
    {
     "data": {
      "text/html": [
       "<table>\n",
       "    <thead>\n",
       "        <tr>\n",
       "            <th>details</th>\n",
       "            <th>count</th>\n",
       "        </tr>\n",
       "    </thead>\n",
       "    <tbody>\n",
       "        <tr>\n",
       "            <td>Routine check-up</td>\n",
       "            <td>2</td>\n",
       "        </tr>\n",
       "        <tr>\n",
       "            <td>Tire replacement</td>\n",
       "            <td>1</td>\n",
       "        </tr>\n",
       "        <tr>\n",
       "            <td>Software update</td>\n",
       "            <td>1</td>\n",
       "        </tr>\n",
       "        <tr>\n",
       "            <td>Sensor calibration</td>\n",
       "            <td>1</td>\n",
       "        </tr>\n",
       "        <tr>\n",
       "            <td>Oil change</td>\n",
       "            <td>1</td>\n",
       "        </tr>\n",
       "        <tr>\n",
       "            <td>Headlight repair</td>\n",
       "            <td>1</td>\n",
       "        </tr>\n",
       "        <tr>\n",
       "            <td>Brake pad replacement</td>\n",
       "            <td>1</td>\n",
       "        </tr>\n",
       "        <tr>\n",
       "            <td>Battery replacement</td>\n",
       "            <td>1</td>\n",
       "        </tr>\n",
       "        <tr>\n",
       "            <td>Battery check-up</td>\n",
       "            <td>1</td>\n",
       "        </tr>\n",
       "    </tbody>\n",
       "</table>"
      ],
      "text/plain": [
       "[('Routine check-up', 2),\n",
       " ('Tire replacement', 1),\n",
       " ('Software update', 1),\n",
       " ('Sensor calibration', 1),\n",
       " ('Oil change', 1),\n",
       " ('Headlight repair', 1),\n",
       " ('Brake pad replacement', 1),\n",
       " ('Battery replacement', 1),\n",
       " ('Battery check-up', 1)]"
      ]
     },
     "execution_count": 27,
     "metadata": {},
     "output_type": "execute_result"
    }
   ],
   "source": [
    "%%sql\n",
    "SELECT details, COUNT(*) as count\n",
    "FROM maintenance\n",
    "GROUP BY details\n",
    "ORDER BY count DESC;\n"
   ]
  },
  {
   "cell_type": "markdown",
   "id": "c3f286ff",
   "metadata": {},
   "source": [
    "# Analysis of Maintenance Frequency After Long Trips\n",
    "This analysis aims to examine whether cars require more frequent maintenance after undertaking long trips. By identifying maintenance records that follow trips exceeding a certain mileage threshold within a specified time window, we can infer whether long trips contribute to an increased need for maintenance. This information is crucial for planning maintenance schedules and understanding the wear and tear impacts of long trips.\n"
   ]
  },
  {
   "cell_type": "code",
   "execution_count": 28,
   "id": "d90a9243",
   "metadata": {},
   "outputs": [
    {
     "name": "stdout",
     "output_type": "stream",
     "text": [
      " * sqlite://\n",
      "Done.\n"
     ]
    },
    {
     "data": {
      "text/html": [
       "<table>\n",
       "    <thead>\n",
       "        <tr>\n",
       "            <th>car_id</th>\n",
       "            <th>post_long_trip_maintenance</th>\n",
       "        </tr>\n",
       "    </thead>\n",
       "    <tbody>\n",
       "        <tr>\n",
       "            <td>1</td>\n",
       "            <td>2</td>\n",
       "        </tr>\n",
       "        <tr>\n",
       "            <td>4</td>\n",
       "            <td>1</td>\n",
       "        </tr>\n",
       "    </tbody>\n",
       "</table>"
      ],
      "text/plain": [
       "[(1, 2), (4, 1)]"
      ]
     },
     "execution_count": 28,
     "metadata": {},
     "output_type": "execute_result"
    }
   ],
   "source": [
    "%%sql\n",
    "SELECT t.car_id, COUNT(m.maintenance_id) as post_long_trip_maintenance\n",
    "FROM maintenance m\n",
    "JOIN trips t ON m.car_id = t.car_id\n",
    "WHERE t.miles_driven > 50 -- Assuming trips over 50 miles as long trips\n",
    "AND julianday(m.maintenance_date) - julianday(t.end_time) <= 30 -- 30 days window\n",
    "GROUP BY t.car_id;\n"
   ]
  },
  {
   "cell_type": "markdown",
   "id": "764a6a57",
   "metadata": {},
   "source": [
    "# Car Utilization Analysis Based on Mileage\n",
    "This analysis focuses on understanding how much each car is being used by summing up the miles driven. High mileage could indicate heavy usage, which might correlate with maintenance needs or sensor wear. This information is key to managing fleet utilization and anticipating maintenance needs.\n"
   ]
  },
  {
   "cell_type": "code",
   "execution_count": 30,
   "id": "ca777f79",
   "metadata": {},
   "outputs": [
    {
     "name": "stdout",
     "output_type": "stream",
     "text": [
      " * sqlite://\n",
      "Done.\n"
     ]
    },
    {
     "data": {
      "text/html": [
       "<table>\n",
       "    <thead>\n",
       "        <tr>\n",
       "            <th>car_id</th>\n",
       "            <th>total_miles</th>\n",
       "        </tr>\n",
       "    </thead>\n",
       "    <tbody>\n",
       "        <tr>\n",
       "            <td>1</td>\n",
       "            <td>130</td>\n",
       "        </tr>\n",
       "        <tr>\n",
       "            <td>2</td>\n",
       "            <td>65</td>\n",
       "        </tr>\n",
       "        <tr>\n",
       "            <td>3</td>\n",
       "            <td>170</td>\n",
       "        </tr>\n",
       "        <tr>\n",
       "            <td>4</td>\n",
       "            <td>100</td>\n",
       "        </tr>\n",
       "        <tr>\n",
       "            <td>5</td>\n",
       "            <td>65</td>\n",
       "        </tr>\n",
       "    </tbody>\n",
       "</table>"
      ],
      "text/plain": [
       "[(1, 130), (2, 65), (3, 170), (4, 100), (5, 65)]"
      ]
     },
     "execution_count": 30,
     "metadata": {},
     "output_type": "execute_result"
    }
   ],
   "source": [
    "%%sql\n",
    "SELECT car_id, SUM(miles_driven) as total_miles\n",
    "FROM trips\n",
    "GROUP BY car_id;\n"
   ]
  },
  {
   "cell_type": "markdown",
   "id": "6649f25c",
   "metadata": {},
   "source": [
    "# Correlation Between Car Age and Maintenance Needs\n",
    "This query explores whether the age of the cars (determined by the `year` field) affects their maintenance requirements. Older cars might be expected to require more frequent maintenance. Understanding this correlation can aid in predictive maintenance planning and fleet renewal strategies.\n"
   ]
  },
  {
   "cell_type": "code",
   "execution_count": 31,
   "id": "8a87d442",
   "metadata": {},
   "outputs": [
    {
     "name": "stdout",
     "output_type": "stream",
     "text": [
      " * sqlite://\n",
      "Done.\n"
     ]
    },
    {
     "data": {
      "text/html": [
       "<table>\n",
       "    <thead>\n",
       "        <tr>\n",
       "            <th>year</th>\n",
       "            <th>maintenance_count</th>\n",
       "        </tr>\n",
       "    </thead>\n",
       "    <tbody>\n",
       "        <tr>\n",
       "            <td>2018</td>\n",
       "            <td>2</td>\n",
       "        </tr>\n",
       "        <tr>\n",
       "            <td>2019</td>\n",
       "            <td>4</td>\n",
       "        </tr>\n",
       "        <tr>\n",
       "            <td>2020</td>\n",
       "            <td>2</td>\n",
       "        </tr>\n",
       "        <tr>\n",
       "            <td>2021</td>\n",
       "            <td>2</td>\n",
       "        </tr>\n",
       "    </tbody>\n",
       "</table>"
      ],
      "text/plain": [
       "[(2018, 2), (2019, 4), (2020, 2), (2021, 2)]"
      ]
     },
     "execution_count": 31,
     "metadata": {},
     "output_type": "execute_result"
    }
   ],
   "source": [
    "%%sql\n",
    "SELECT c.year, COUNT(m.maintenance_id) as maintenance_count\n",
    "FROM cars c\n",
    "JOIN maintenance m ON c.car_id = m.car_id\n",
    "GROUP BY c.year;\n"
   ]
  },
  {
   "cell_type": "code",
   "execution_count": null,
   "id": "d93cb588",
   "metadata": {},
   "outputs": [],
   "source": []
  }
 ],
 "metadata": {
  "kernelspec": {
   "display_name": "Python 3 (ipykernel)",
   "language": "python",
   "name": "python3"
  },
  "language_info": {
   "codemirror_mode": {
    "name": "ipython",
    "version": 3
   },
   "file_extension": ".py",
   "mimetype": "text/x-python",
   "name": "python",
   "nbconvert_exporter": "python",
   "pygments_lexer": "ipython3",
   "version": "3.11.5"
  }
 },
 "nbformat": 4,
 "nbformat_minor": 5
}
